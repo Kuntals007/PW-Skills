{
  "nbformat": 4,
  "nbformat_minor": 0,
  "metadata": {
    "colab": {
      "provenance": []
    },
    "kernelspec": {
      "name": "python3",
      "display_name": "Python 3"
    },
    "language_info": {
      "name": "python"
    }
  },
  "cells": [
    {
      "cell_type": "code",
      "execution_count": 2,
      "metadata": {
        "colab": {
          "base_uri": "https://localhost:8080/"
        },
        "id": "GkfSzS-IlKVI",
        "outputId": "753d2582-988a-4328-ae7c-0838480baf42"
      },
      "outputs": [
        {
          "output_type": "stream",
          "name": "stdout",
          "text": [
            "!dlroW ,olleH\n"
          ]
        }
      ],
      "source": [
        "#1.Write a code to reverse a string\n",
        "\n",
        "\n",
        "def reverse_string(s):\n",
        "    return s[::-1]\n",
        "\n",
        "# Example usage\n",
        "text = \"Hello, World!\"\n",
        "reversed_text = reverse_string(text)\n",
        "print(reversed_text)\n",
        "\n"
      ]
    },
    {
      "cell_type": "code",
      "source": [
        "#2. Write a code to count the number of vowels in a string\n",
        "\n",
        "\n",
        "def count_vowels(s):\n",
        "    vowels = \"aeiouAEIOU\"\n",
        "    count = 0\n",
        "    for char in s:\n",
        "        if char in vowels:\n",
        "            count += 1\n",
        "    return count\n",
        "\n",
        "# Example usage\n",
        "text = \"Subhankar, is a good boy\"\n",
        "vowel_count = count_vowels(text)\n",
        "print(\"Number of vowels:\", vowel_count)\n"
      ],
      "metadata": {
        "colab": {
          "base_uri": "https://localhost:8080/"
        },
        "id": "dqCQI7iEshPm",
        "outputId": "289e27ce-6656-4037-dc2d-6869c4b16358"
      },
      "execution_count": 4,
      "outputs": [
        {
          "output_type": "stream",
          "name": "stdout",
          "text": [
            "Number of vowels: 8\n"
          ]
        }
      ]
    },
    {
      "cell_type": "code",
      "source": [
        "#3. Write a code to check if a given string is a palindrome or not\n",
        "\n",
        "\n",
        "def is_palindrome(s):\n",
        "    # Convert the string to lowercase and remove spaces for a case-insensitive comparison\n",
        "    s = s.replace(\" \", \"\").lower()\n",
        "    return s == s[::-1]\n",
        "\n",
        "# Example usage\n",
        "text = input('Enter the string...!!')\n",
        "if is_palindrome(text):\n",
        "    print(\"The string is a palindrome.\")\n",
        "else:\n",
        "    print(\"The string is not a palindrome.\")\n"
      ],
      "metadata": {
        "colab": {
          "base_uri": "https://localhost:8080/"
        },
        "id": "BrHjfvevvfY9",
        "outputId": "347b77e5-6e98-46bf-ede0-a583aea75c26"
      },
      "execution_count": 9,
      "outputs": [
        {
          "output_type": "stream",
          "name": "stdout",
          "text": [
            "Enter the string...!!gdsh\n",
            "The string is not a palindrome.\n"
          ]
        }
      ]
    },
    {
      "cell_type": "code",
      "source": [
        "#4.Write a code to check if two given strings are anagrams of each other\n",
        "\n",
        "\n",
        "def are_anagrams(str1, str2):\n",
        "    # Remove spaces and convert both strings to lowercase\n",
        "    str1 = str1.replace(\" \", \"\").lower()\n",
        "    str2 = str2.replace(\" \", \"\").lower()\n",
        "\n",
        "    # Check if sorted characters of both strings are the same\n",
        "    return sorted(str1) == sorted(str2)\n",
        "\n",
        "# Example usage\n",
        "text1 = input('Enter the first string...!!')\n",
        "text2 = input('Enter the second string...!!')\n",
        "if are_anagrams(text1, text2):\n",
        "    print(\"The strings are anagrams.\")\n",
        "else:\n",
        "    print(\"The strings are not anagrams.\")\n"
      ],
      "metadata": {
        "colab": {
          "base_uri": "https://localhost:8080/"
        },
        "id": "lWxgbgpgxCgI",
        "outputId": "0e54edca-ec98-4717-efd8-48504a42613b"
      },
      "execution_count": 8,
      "outputs": [
        {
          "output_type": "stream",
          "name": "stdout",
          "text": [
            "Enter the first string...!!kuntal\n",
            "Enter the second string...!!akash\n",
            "The strings are not anagrams.\n"
          ]
        }
      ]
    },
    {
      "cell_type": "code",
      "source": [
        "#5.  Write a code to find all occurrences of a given substring within another string\n",
        "\n",
        "\n"
      ],
      "metadata": {
        "id": "VRqN3e-OzrRL"
      },
      "execution_count": null,
      "outputs": []
    },
    {
      "cell_type": "code",
      "source": [
        "#6. Write a code to perform basic string compression using the counts of repeated characters\n",
        "\n",
        "\n",
        "def compress_string(s):\n",
        "    compressed = \"\"\n",
        "    count = 1\n",
        "\n",
        "    for i in range(1, len(s)):\n",
        "        # Check if the current character is the same as the previous one\n",
        "        if s[i] == s[i - 1]:\n",
        "            count += 1\n",
        "        else:\n",
        "            # Append the character and its count to the result\n",
        "            compressed += s[i - 1] + str(count)\n",
        "            count = 1  # Reset count for the new character\n",
        "\n",
        "    # Append the last character and its count\n",
        "    compressed += s[-1] + str(count)\n",
        "\n",
        "    # Return the original string if compression is not shorter\n",
        "    return compressed if len(compressed) < len(s) else s\n",
        "\n",
        "# Example usage\n",
        "text = \"aaaaabbbbbbccccccccc\"\n",
        "compressed_text = compress_string(text)\n",
        "print(\"Compressed string:\", compressed_text)\n"
      ],
      "metadata": {
        "colab": {
          "base_uri": "https://localhost:8080/"
        },
        "id": "qrKzL4oz0TS3",
        "outputId": "0f92d413-ccd9-465e-b5e4-a4e562f49682"
      },
      "execution_count": 10,
      "outputs": [
        {
          "output_type": "stream",
          "name": "stdout",
          "text": [
            "Compressed string: a5b6c9\n"
          ]
        }
      ]
    },
    {
      "cell_type": "code",
      "source": [
        "#7. Write a code to determine if a string has all unique characters\n",
        "\n",
        "\n",
        "def has_unique_characters(s):\n",
        "    # Using a set to track characters\n",
        "    seen_characters = set()\n",
        "\n",
        "    for char in s:\n",
        "        # If character is already in the set, it's not unique\n",
        "        if char in seen_characters:\n",
        "            return False\n",
        "        seen_characters.add(char)\n",
        "\n",
        "    return True\n",
        "\n",
        "# Example usage\n",
        "text = input('Enter the string to check..!!')\n",
        "if has_unique_characters(text):\n",
        "    print(\"The string has all unique characters.\")\n",
        "else:\n",
        "    print(\"The string does not have all unique characters.\")\n"
      ],
      "metadata": {
        "colab": {
          "base_uri": "https://localhost:8080/"
        },
        "id": "m4lgz7Yq0T5K",
        "outputId": "7b29436b-82aa-4634-97c8-aeb3fb6d20c0"
      },
      "execution_count": 11,
      "outputs": [
        {
          "output_type": "stream",
          "name": "stdout",
          "text": [
            "Enter the string to check..!!abhriwm\n",
            "The string has all unique characters.\n"
          ]
        }
      ]
    },
    {
      "cell_type": "code",
      "source": [
        "#8. Write a code to convert a given string to uppercase or lowercase\n",
        "\n",
        "\n",
        "def convert_case(s, to_upper=True):\n",
        "    if to_upper:\n",
        "        return s.upper()  # Convert to uppercase\n",
        "    else:\n",
        "        return s.lower()  # Convert to lowercase\n",
        "\n",
        "# Example usage\n",
        "text = input(\"Enter a string: \")\n",
        "case_choice = input(\"Do you want to convert to uppercase (U) or lowercase (L)? \").strip().upper()\n",
        "\n",
        "if case_choice == \"U\":\n",
        "    result = convert_case(text, to_upper=True)\n",
        "    print(\"Converted to uppercase:\", result)\n",
        "elif case_choice == \"L\":\n",
        "    result = convert_case(text, to_upper=False)\n",
        "    print(\"Converted to lowercase:\", result)\n",
        "else:\n",
        "    print(\"Invalid choice. Please select 'U' for uppercase or 'L' for lowercase.\")\n"
      ],
      "metadata": {
        "colab": {
          "base_uri": "https://localhost:8080/"
        },
        "id": "kaOhDBls0T9D",
        "outputId": "cdbc19da-21a4-491e-c802-015997716dcb"
      },
      "execution_count": 12,
      "outputs": [
        {
          "output_type": "stream",
          "name": "stdout",
          "text": [
            "Enter a string: Kuntal\n",
            "Do you want to convert to uppercase (U) or lowercase (L)? l\n",
            "Converted to lowercase: kuntal\n"
          ]
        }
      ]
    },
    {
      "cell_type": "code",
      "source": [
        "#9. Write a code to count the number of words in a string\n",
        "\n",
        "def count_words(s):\n",
        "    # Split the string into words using whitespace as delimiter\n",
        "    words = s.split()\n",
        "    # Return the number of words\n",
        "    return len(words)\n",
        "\n",
        "# Example usage\n",
        "text = input(\"Enter a string: \")\n",
        "word_count = count_words(text)\n",
        "print(\"Number of words in the string:\", word_count)\n",
        "\n"
      ],
      "metadata": {
        "colab": {
          "base_uri": "https://localhost:8080/"
        },
        "id": "22R9l9mp0UAQ",
        "outputId": "49881484-29a1-49f8-aa72-63541924a51f"
      },
      "execution_count": 14,
      "outputs": [
        {
          "output_type": "stream",
          "name": "stdout",
          "text": [
            "Enter a string: chg vfjuyf khfvj jh\n",
            "Number of words in the string: 4\n"
          ]
        }
      ]
    },
    {
      "cell_type": "code",
      "source": [
        "#10. Write a code to concatenate two strings without using the + operator\n",
        "\n",
        "\n",
        "def concatenate_strings(str1, str2):\n",
        "    # Convert the first string to a list and append the second string\n",
        "    result_list = [str1 + ' '+ str2]\n",
        "\n",
        "\n",
        "    # Join the list into a single string and return it\n",
        "    return (result_list)\n",
        "\n",
        "# Example usage\n",
        "string1 = input(\"Enter the first string: \")\n",
        "string2 = input(\"Enter the second string: \")\n",
        "\n",
        "result = concatenate_strings(string1, string2)\n",
        "print(\"Concatenated string:\", result)\n"
      ],
      "metadata": {
        "colab": {
          "base_uri": "https://localhost:8080/"
        },
        "id": "xWFA2NXS0UCt",
        "outputId": "86212b16-dfa6-41a8-b417-55140525d313"
      },
      "execution_count": 16,
      "outputs": [
        {
          "output_type": "stream",
          "name": "stdout",
          "text": [
            "Enter the first string: hiee\n",
            "Enter the second string: there\n",
            "Concatenated string: ['hiee there']\n"
          ]
        }
      ]
    },
    {
      "cell_type": "code",
      "source": [
        "#11.Write a code to remove all occurrences of a specific element from a list\n",
        "\n",
        "\n",
        "def remove_all_occurrences(list, element):\n",
        "    # Use list comprehension to filter out the specified element\n",
        "    return [x for x in list if x != element]\n",
        "\n",
        "# Example usage\n",
        "numbers = [1, 2, 3, 4, 3, 5, 3, 6]\n",
        "element_to_remove = 3\n",
        "\n",
        "result = remove_all_occurrences(numbers, element_to_remove)\n",
        "print(\"List after removing all occurrences of\", element_to_remove, \":\", result)\n"
      ],
      "metadata": {
        "colab": {
          "base_uri": "https://localhost:8080/"
        },
        "id": "7Tlj2B_d0UFM",
        "outputId": "75909149-ee41-4726-9d90-ce60560760a6"
      },
      "execution_count": 1,
      "outputs": [
        {
          "output_type": "stream",
          "name": "stdout",
          "text": [
            "List after removing all occurrences of 3 : [1, 2, 4, 5, 6]\n"
          ]
        }
      ]
    },
    {
      "cell_type": "code",
      "source": [
        "#12. Implement a code to find the second largest number in a given list of integers\n",
        "\n"
      ],
      "metadata": {
        "id": "ilBu2Ko00UH4"
      },
      "execution_count": null,
      "outputs": []
    },
    {
      "cell_type": "code",
      "source": [
        "#13. Create a code to count the occurrences of each element in a list and return a dictionary with elements as keys and their counts as values\n",
        "\n",
        "\n",
        "def count_occurrences(list):\n",
        "    # Initialize an empty dictionary to store counts\n",
        "    counts = {}\n",
        "\n",
        "    for element in list:\n",
        "        # Increment the count if the element exists in the dictionary\n",
        "        if element in counts:\n",
        "            counts[element] += 1\n",
        "        else:\n",
        "            # Add the element to the dictionary with a count of 1\n",
        "            counts[element] = 1\n",
        "\n",
        "    return counts\n",
        "\n",
        "# Example usage\n",
        "numbers = [1, 2, 2, 3, 3, 3, 4, 5, 5, 5, 5]\n",
        "result = count_occurrences(numbers)\n",
        "print(\"Element counts:\", result)\n"
      ],
      "metadata": {
        "colab": {
          "base_uri": "https://localhost:8080/"
        },
        "id": "-EGcemoC0ULK",
        "outputId": "5fb8107c-7692-4771-cb35-08aabedaa810"
      },
      "execution_count": 2,
      "outputs": [
        {
          "output_type": "stream",
          "name": "stdout",
          "text": [
            "Element counts: {1: 1, 2: 2, 3: 3, 4: 1, 5: 4}\n"
          ]
        }
      ]
    },
    {
      "cell_type": "code",
      "source": [
        "#14.  Write a code to reverse a list in-place without using any built-in reverse functions\n",
        "\n",
        "\n",
        "def reverse_list(list):\n",
        "    # Use two pointers: one starting at the beginning and the other at the end\n",
        "    left = 0\n",
        "    right = len(list) - 1\n",
        "\n",
        "    while left < right:\n",
        "        # Swap the elements at the two pointers\n",
        "        list[left], list[right] = list[right], list[left]\n",
        "\n",
        "        # Move the pointers toward each other\n",
        "        left += 1\n",
        "        right -= 1\n",
        "\n",
        "# Example usage\n",
        "numbers = [1, 2, 3, 4, 5]\n",
        "print(\"Original list:\", numbers)\n",
        "\n",
        "reverse_list(numbers)\n",
        "print(\"Reversed list:\", numbers)\n"
      ],
      "metadata": {
        "colab": {
          "base_uri": "https://localhost:8080/"
        },
        "id": "LNXUKmlE0UNt",
        "outputId": "14fcd12f-0463-43d9-c0c4-7c81a688d8e5"
      },
      "execution_count": 3,
      "outputs": [
        {
          "output_type": "stream",
          "name": "stdout",
          "text": [
            "Original list: [1, 2, 3, 4, 5]\n",
            "Reversed list: [5, 4, 3, 2, 1]\n"
          ]
        }
      ]
    },
    {
      "cell_type": "code",
      "source": [
        "#15. Implement a code to find and remove duplicates from a list while preserving the original order of  elements\n",
        "\n",
        "\n",
        "def remove_duplicates(list):\n",
        "    seen = set()  # To keep track of seen elements\n",
        "    result = []   # To store the unique elements in order\n",
        "\n",
        "    for element in list:\n",
        "        if element not in seen:\n",
        "            result.append(element)  # Add unique element to the result list\n",
        "            seen.add(element)       # Mark element as seen\n",
        "\n",
        "    return result\n",
        "\n",
        "# Example usage\n",
        "numbers = [1, 2, 2, 3, 4, 3, 5, 4, 6]\n",
        "print(\"Original list:\", numbers)\n",
        "\n",
        "unique_numbers = remove_duplicates(numbers)\n",
        "print(\"List after removing duplicates:\", unique_numbers)\n"
      ],
      "metadata": {
        "colab": {
          "base_uri": "https://localhost:8080/"
        },
        "id": "4P_R0CQH0UO8",
        "outputId": "a4227aa6-5d2c-4134-ba89-3c91c8561cfa"
      },
      "execution_count": 4,
      "outputs": [
        {
          "output_type": "stream",
          "name": "stdout",
          "text": [
            "Original list: [1, 2, 2, 3, 4, 3, 5, 4, 6]\n",
            "List after removing duplicates: [1, 2, 3, 4, 5, 6]\n"
          ]
        }
      ]
    },
    {
      "cell_type": "code",
      "source": [
        "#16. Create a code to check if a given list is sorted (either in ascending or descending order) or not\n",
        "\n",
        "\n",
        "def is_sorted(list):\n",
        "    # Check for ascending order\n",
        "    ascending = all(list[i] <= list[i + 1] for i in range(len(list) - 1))\n",
        "    # Check for descending order\n",
        "    descending = all(list[i] >= list[i + 1] for i in range(len(list) - 1))\n",
        "\n",
        "    if ascending:\n",
        "        return \"The list is sorted in ascending order.\"\n",
        "    elif descending:\n",
        "        return \"The list is sorted in descending order.\"\n",
        "    else:\n",
        "        return \"The list is not sorted.\"\n",
        "\n",
        "# Example usage\n",
        "numbers = [1, 2, 3, 4, 5]  # Change this list to test different cases\n",
        "print(is_sorted(numbers))\n"
      ],
      "metadata": {
        "colab": {
          "base_uri": "https://localhost:8080/"
        },
        "id": "aCmCjgIW0UQW",
        "outputId": "3488ffb4-4fe2-411d-91a6-df5e45cfc3db"
      },
      "execution_count": 5,
      "outputs": [
        {
          "output_type": "stream",
          "name": "stdout",
          "text": [
            "The list is sorted in ascending order.\n"
          ]
        }
      ]
    },
    {
      "cell_type": "code",
      "source": [
        "#17. Write a code to merge two sorted lists into a single sorted list\n",
        "\n",
        "def merge_sorted_lists(list1, list2):\n",
        "    merged_list = []  # Resulting merged list\n",
        "    i, j = 0, 0  # Pointers for list1 and list2\n",
        "\n",
        "    # Merge until one of the lists is exhausted\n",
        "    while i < len(list1) and j < len(list2):\n",
        "        if list1[i] < list2[j]:\n",
        "            merged_list.append(list1[i])\n",
        "            i += 1\n",
        "        else:\n",
        "            merged_list.append(list2[j])\n",
        "            j += 1\n",
        "\n",
        "    # Append remaining elements from list1 or list2\n",
        "    while i < len(list1):\n",
        "        merged_list.append(list1[i])\n",
        "        i += 1\n",
        "\n",
        "    while j < len(list2):\n",
        "        merged_list.append(list2[j])\n",
        "        j += 1\n",
        "\n",
        "    return merged_list\n",
        "\n",
        "# Example usage\n",
        "list1 = [1, 3, 5, 7]\n",
        "list2 = [2, 4, 6, 8]\n",
        "merged = merge_sorted_lists(list1, list2)\n",
        "print(\"Merged sorted list:\", merged)\n"
      ],
      "metadata": {
        "colab": {
          "base_uri": "https://localhost:8080/"
        },
        "id": "Oiq4K7n20UR8",
        "outputId": "22b1b109-816c-4db0-b17d-03df105de1b1"
      },
      "execution_count": 6,
      "outputs": [
        {
          "output_type": "stream",
          "name": "stdout",
          "text": [
            "Merged sorted list: [1, 2, 3, 4, 5, 6, 7, 8]\n"
          ]
        }
      ]
    },
    {
      "cell_type": "code",
      "source": [
        "#18. Implement a code to find the intersection of two given lists\n",
        "\n",
        "\n",
        "def find_intersection(list1, list2):\n",
        "    # Use a set to find common elements efficiently\n",
        "    set1 = set(list1)\n",
        "    set2 = set(list2)\n",
        "\n",
        "    # Find the intersection of the two sets\n",
        "    intersection = set1 & set2  # Equivalent to set1.intersection(set2)\n",
        "\n",
        "    # Convert the result back to a list if needed\n",
        "    return list(intersection)\n",
        "\n",
        "# Example usage\n",
        "list1 = [1, 2, 3, 4, 5]\n",
        "list2 = [3, 4, 5, 6, 7]\n",
        "result = find_intersection(list1, list2)\n",
        "\n",
        "print(\"Intersection of the two lists:\", result)\n"
      ],
      "metadata": {
        "colab": {
          "base_uri": "https://localhost:8080/"
        },
        "id": "XQHQ1qsc0VBh",
        "outputId": "38be4f9d-d515-4a87-da72-a317ef071852"
      },
      "execution_count": 1,
      "outputs": [
        {
          "output_type": "stream",
          "name": "stdout",
          "text": [
            "Intersection of the two lists: [3, 4, 5]\n"
          ]
        }
      ]
    },
    {
      "cell_type": "code",
      "source": [
        "#19.Create a code to find the union of two lists without duplicates\n",
        "\n",
        "\n",
        "def find_union(list1, list2):\n",
        "    # Use a set to remove duplicates and combine the two lists\n",
        "    union_set = set(list1) | set(list2)  # Equivalent to set1.union(set2)\n",
        "\n",
        "    # Convert the result back to a list if needed\n",
        "    return list(union_set)\n",
        "\n",
        "# Example usage\n",
        "list1 = [1, 2, 3, 4, 5]\n",
        "list2 = [4, 5, 6, 7, 8]\n",
        "result = find_union(list1, list2)\n",
        "\n",
        "print(\"Union of the two lists without duplicates:\", result)\n",
        "\n"
      ],
      "metadata": {
        "colab": {
          "base_uri": "https://localhost:8080/"
        },
        "id": "Hauxpn0c0VF6",
        "outputId": "4937aa93-a155-4efa-bf1d-5c129841297b"
      },
      "execution_count": 2,
      "outputs": [
        {
          "output_type": "stream",
          "name": "stdout",
          "text": [
            "Union of the two lists without duplicates: [1, 2, 3, 4, 5, 6, 7, 8]\n"
          ]
        }
      ]
    },
    {
      "cell_type": "code",
      "source": [],
      "metadata": {
        "id": "APk8Y0mZ0VJE"
      },
      "execution_count": null,
      "outputs": []
    },
    {
      "cell_type": "code",
      "source": [
        "#20. Write a code to shuffle a given list randomly without using any built-in shuffle functions\n",
        "\n",
        "\n",
        "import random\n",
        "\n",
        "def shuffle_list(list):\n",
        "    # Loop through the list in reverse order\n",
        "    for i in range(len(list) - 1, 0, -1):\n",
        "        # Generate a random index\n",
        "        j = random.randint(0, i)\n",
        "\n",
        "        # Swap the current element with the element at the random index\n",
        "        list[i], list[j] = list[j], list[i]\n",
        "\n",
        "# Example usage\n",
        "original_list = [1, 2, 3, 4, 5]\n",
        "print(\"Original list:\", original_list)\n",
        "\n",
        "shuffle_list(original_list)\n",
        "print(\"Shuffled list:\", original_list)\n"
      ],
      "metadata": {
        "colab": {
          "base_uri": "https://localhost:8080/"
        },
        "id": "sZWhdVO-0VMJ",
        "outputId": "f0dbe04b-f314-4468-f55a-25348c225591"
      },
      "execution_count": 3,
      "outputs": [
        {
          "output_type": "stream",
          "name": "stdout",
          "text": [
            "Original list: [1, 2, 3, 4, 5]\n",
            "Shuffled list: [1, 5, 3, 2, 4]\n"
          ]
        }
      ]
    },
    {
      "cell_type": "code",
      "source": [
        "#21.Write a code that takes two tuples as input and returns a new tuple containing elements that are  common to both input tuples\n",
        "\n",
        "\n",
        "def common_elements(tuple1, tuple2):\n",
        "    # Use set intersection to find common elements\n",
        "    common_set = set(tuple1) & set(tuple2)  # Equivalent to set1.intersection(set2)\n",
        "\n",
        "    # Convert the result back to a tuple\n",
        "    return tuple(common_set)\n",
        "\n",
        "# Example usage\n",
        "tuple1 = (1, 2, 3, 4, 5)\n",
        "tuple2 = (4, 5, 6, 7, 8)\n",
        "result = common_elements(tuple1, tuple2)\n",
        "\n",
        "print(\"Common elements in both tuples:\", result)\n",
        "\n"
      ],
      "metadata": {
        "colab": {
          "base_uri": "https://localhost:8080/"
        },
        "id": "JhZJxiKc0VPh",
        "outputId": "0253c5ea-d5a8-420f-c6de-2c349bb0c751"
      },
      "execution_count": 4,
      "outputs": [
        {
          "output_type": "stream",
          "name": "stdout",
          "text": [
            "Common elements in both tuples: (4, 5)\n"
          ]
        }
      ]
    },
    {
      "cell_type": "code",
      "source": [
        "#22.Create a code that prompts the user to enter two sets of integers separated by commas. Then, print the  intersection of these two sets\n",
        "\n",
        "\n",
        "def main():\n",
        "    # Prompt user for two sets of integers\n",
        "    set1 = input(\"Enter the first set of integers (separated by commas): \")\n",
        "    set2 = input(\"Enter the second set of integers (separated by commas): \")\n",
        "\n",
        "    # Convert the input strings to sets of integers\n",
        "    set1 = set(map(int, set1.split(',')))\n",
        "    set2 = set(map(int, set2.split(',')))\n",
        "\n",
        "    # Find the intersection of the two sets\n",
        "    intersection = set1 & set2  # Equivalent to set1.intersection(set2)\n",
        "\n",
        "    # Print the intersection\n",
        "    print(\"Intersection of the two sets:\", intersection)\n",
        "\n",
        "# Call the main function\n",
        "main()\n"
      ],
      "metadata": {
        "colab": {
          "base_uri": "https://localhost:8080/"
        },
        "id": "hUzSx8S50VS1",
        "outputId": "6ce65ce6-7e54-4ac4-bd9c-ffc847cd552f"
      },
      "execution_count": 5,
      "outputs": [
        {
          "output_type": "stream",
          "name": "stdout",
          "text": [
            "Enter the first set of integers (separated by commas): 1,2,3,4,5,6\n",
            "Enter the second set of integers (separated by commas): 3,4,5,6,7,8,9\n",
            "Intersection of the two sets: {3, 4, 5, 6}\n"
          ]
        }
      ]
    },
    {
      "cell_type": "code",
      "source": [
        "#23.Write a code to concatenate two tuples. The function should take two tuples as input and return a new  tuple containing elements from both input tuples.\n",
        "\n",
        "def concatenate_tuples(tuple1, tuple2):\n",
        "    # Use the + operator to concatenate the tuples\n",
        "    return tuple1 + tuple2\n",
        "\n",
        "# Example usage\n",
        "tuple1 = input('enter first list of integers separeted by comas: ')\n",
        "tuple2 = input('enter second list of integers separeted by comas: ')\n",
        "result = concatenate_tuples(tuple1, tuple2)\n",
        "\n",
        "print(\"Concatenated tuple:\", result)\n"
      ],
      "metadata": {
        "colab": {
          "base_uri": "https://localhost:8080/"
        },
        "id": "VHVPJXMv0VWA",
        "outputId": "034272ab-08e5-4026-b007-78ab29bf2cf8"
      },
      "execution_count": 7,
      "outputs": [
        {
          "output_type": "stream",
          "name": "stdout",
          "text": [
            "enter first list of integers separeted by comas: 1,2,3,4,5,\n",
            "enter second list of integers separeted by comas: 3,4,5,6,7\n",
            "Concatenated tuple: 1,2,3,4,5,3,4,5,6,7\n"
          ]
        }
      ]
    },
    {
      "cell_type": "code",
      "source": [
        "#24.Develop a code that prompts the user to input two sets of strings. Then, print the elements that are   present in the first set but not in the second set\n",
        "\n",
        "\n",
        "def main():\n",
        "    # Prompt user for two sets of strings\n",
        "    set1 = input(\"Enter the first set of strings (separated by commas): \")\n",
        "    set2 = input(\"Enter the second set of strings (separated by commas): \")\n",
        "\n",
        "    # Convert the input strings to sets\n",
        "    set1 = set(set1.split(','))\n",
        "    set2 = set(set2.split(','))\n",
        "\n",
        "    # Find elements in the first set but not in the second set\n",
        "    difference = set1 - set2  # Equivalent to set1.difference(set2)\n",
        "\n",
        "    # Print the result\n",
        "    print(\"Elements in the first set but not in the second set:\", difference)\n",
        "\n",
        "# Call the main function\n",
        "main()\n",
        "\n"
      ],
      "metadata": {
        "colab": {
          "base_uri": "https://localhost:8080/"
        },
        "id": "hwMSHOAu0VZT",
        "outputId": "6dfe5073-3bd7-4ddd-8d58-6014c0ede094"
      },
      "execution_count": 8,
      "outputs": [
        {
          "output_type": "stream",
          "name": "stdout",
          "text": [
            "Enter the first set of strings (separated by commas): apple,banana,orange\n",
            "Enter the second set of strings (separated by commas): banana,grape,apple\n",
            "Elements in the first set but not in the second set: {'orange'}\n"
          ]
        }
      ]
    },
    {
      "cell_type": "code",
      "source": [
        "#25. Create a code that takes a tuple and two integers as input. The function should return a new tuple  containing elements from the original tuple within the specified range of indices\n",
        "\n",
        "\n",
        "def extract_subtuple(tup, start, end):\n",
        "    # Use slicing to extract elements from start to end (end is exclusive)\n",
        "    return tup[start:end]\n",
        "\n",
        "# Example usage\n",
        "original_tuple = (10, 20, 30, 40, 50, 60, 70)\n",
        "start_index = int(input(\"Enter the start index: \"))\n",
        "end_index = int(input(\"Enter the end index (exclusive): \"))\n",
        "\n",
        "result = extract_subtuple(original_tuple, start_index, end_index)\n",
        "print(\"Extracted sub-tuple:\", result)\n"
      ],
      "metadata": {
        "colab": {
          "base_uri": "https://localhost:8080/"
        },
        "id": "SI7iknXB0Vcf",
        "outputId": "f10ac574-81d2-4b14-841c-ead7ac50dcba"
      },
      "execution_count": 9,
      "outputs": [
        {
          "output_type": "stream",
          "name": "stdout",
          "text": [
            "Enter the start index: 2\n",
            "Enter the end index (exclusive): 5\n",
            "Extracted sub-tuple: (30, 40, 50)\n"
          ]
        }
      ]
    },
    {
      "cell_type": "code",
      "source": [
        "#26. Write a code that prompts the user to input two sets of characters. Then, print the union of these two sets\n",
        "\n",
        "\n",
        "def main():\n",
        "    # Prompt the user for two sets of characters\n",
        "    set1 = input(\"Enter the first set of characters (separated by commas): \")\n",
        "    set2 = input(\"Enter the second set of characters (separated by commas): \")\n",
        "\n",
        "    # Convert the input strings to sets\n",
        "    set1 = set(set1.split(','))\n",
        "    set2 = set(set2.split(','))\n",
        "\n",
        "    # Find the union of the two sets\n",
        "    union_set = set1 | set2  # Equivalent to set1.union(set2)\n",
        "\n",
        "    # Print the union of the two sets\n",
        "    print(\"Union of the two sets:\", union_set)\n",
        "\n",
        "# Call the main function\n",
        "main()\n"
      ],
      "metadata": {
        "colab": {
          "base_uri": "https://localhost:8080/"
        },
        "id": "Ufrn0aWx0VfI",
        "outputId": "702ef7a6-2198-41ce-fbac-908d124f114a"
      },
      "execution_count": 10,
      "outputs": [
        {
          "output_type": "stream",
          "name": "stdout",
          "text": [
            "Enter the first set of characters (separated by commas): a,b,c\n",
            "Enter the second set of characters (separated by commas):  b,c,d,e\n",
            "Union of the two sets: {'a', 'e', ' b', 'c', 'b', 'd'}\n"
          ]
        }
      ]
    },
    {
      "cell_type": "code",
      "source": [
        "#27.  Develop a code that takes a tuple of integers as input. The function should return the maximum and  minimum values from the tuple using tuple unpacking\n",
        "\n",
        "\n",
        "def find_max_min(tup):\n",
        "    # Use built-in functions to find max and min\n",
        "    max_val = max(tup)\n",
        "    min_val = min(tup)\n",
        "\n",
        "    # Return as a tuple\n",
        "    return max_val, min_val\n",
        "\n",
        "# Example usage\n",
        "input_tuple = tuple(map(int, input(\"Enter integers separated by commas: \").split(',')))\n",
        "max_val, min_val = find_max_min(input_tuple)  # Tuple unpacking\n",
        "\n",
        "print(f\"Maximum value: {max_val}\")\n",
        "print(f\"Minimum value: {min_val}\")\n"
      ],
      "metadata": {
        "colab": {
          "base_uri": "https://localhost:8080/"
        },
        "id": "Z0aZiHCtQdQt",
        "outputId": "8f3c5beb-41d0-4a7e-9c3c-0004e2c1cbe0"
      },
      "execution_count": 11,
      "outputs": [
        {
          "output_type": "stream",
          "name": "stdout",
          "text": [
            "Enter integers separated by commas: 3,1,4,1,5,9\n",
            "Maximum value: 9\n",
            "Minimum value: 1\n"
          ]
        }
      ]
    },
    {
      "cell_type": "code",
      "source": [
        "#28. Create a code that defines two sets of integers. Then, print the union, intersection, and difference of these  two sets\n",
        "\n",
        "\n",
        "def main():\n",
        "    # Define two sets of integers\n",
        "    set1 = {1, 2, 3, 4, 5}\n",
        "    set2 = {4, 5, 6, 7, 8}\n",
        "\n",
        "    # Union of the two sets (elements in either set)\n",
        "    union_set = set1 | set2  # or set1.union(set2)\n",
        "\n",
        "    # Intersection of the two sets (common elements)\n",
        "    intersection_set = set1 & set2  # or set1.intersection(set2)\n",
        "\n",
        "    # Difference of the two sets (elements in set1 but not in set2)\n",
        "    difference_set = set1 - set2  # or set1.difference(set2)\n",
        "\n",
        "    # Print the results\n",
        "    print(\"Union of the two sets:\", union_set)\n",
        "    print(\"Intersection of the two sets:\", intersection_set)\n",
        "    print(\"Difference (set1 - set2):\", difference_set)\n",
        "\n",
        "# Call the main function\n",
        "main()\n"
      ],
      "metadata": {
        "colab": {
          "base_uri": "https://localhost:8080/"
        },
        "id": "7sN9Mrs5QdVm",
        "outputId": "7703eb3c-8fe9-412b-e8a7-779594bd0ac0"
      },
      "execution_count": 12,
      "outputs": [
        {
          "output_type": "stream",
          "name": "stdout",
          "text": [
            "Union of the two sets: {1, 2, 3, 4, 5, 6, 7, 8}\n",
            "Intersection of the two sets: {4, 5}\n",
            "Difference (set1 - set2): {1, 2, 3}\n"
          ]
        }
      ]
    },
    {
      "cell_type": "code",
      "source": [
        "#29.Write a code that takes a tuple and an element as input. The function should return the count of  occurrences of the given element in the tuple\n",
        "\n",
        "\n",
        "\n",
        "def count_occurrences(tup, element):\n",
        "    # Use the count() method to count occurrences of the element in the tuple\n",
        "    return tup.count(element)\n",
        "\n",
        "# Example usage\n",
        "input_tuple = tuple(map(int, input(\"Enter integers separated by commas: \").split(',')))\n",
        "element = int(input(\"Enter the element to count: \"))\n",
        "\n",
        "count = count_occurrences(input_tuple, element)\n",
        "print(f\"The element {element} appears {count} times in the tuple.\")\n",
        "\n"
      ],
      "metadata": {
        "colab": {
          "base_uri": "https://localhost:8080/"
        },
        "id": "HkcR5WI4QdY4",
        "outputId": "4867fdbd-c415-4f15-fbce-b927b28cde61"
      },
      "execution_count": 13,
      "outputs": [
        {
          "output_type": "stream",
          "name": "stdout",
          "text": [
            "Enter integers separated by commas: 1,2,3,4,5,2,2,3\n",
            "Enter the element to count: 2\n",
            "The element 2 appears 3 times in the tuple.\n"
          ]
        }
      ]
    },
    {
      "cell_type": "code",
      "source": [
        "#30. Develop a code that prompts the user to input two sets of strings. Then, print the symmetric difference of  these two sets\n",
        "\n",
        "\n",
        "def main():\n",
        "    # Prompt the user for two sets of strings\n",
        "    set1 = input(\"Enter the first set of strings (separated by commas): \")\n",
        "    set2 = input(\"Enter the second set of strings (separated by commas): \")\n",
        "\n",
        "    # Convert the input strings to sets\n",
        "    set1 = set(set1.split(','))\n",
        "    set2 = set(set2.split(','))\n",
        "\n",
        "    # Find the symmetric difference of the two sets\n",
        "    symmetric_diff = set1 ^ set2  # Equivalent to set1.symmetric_difference(set2)\n",
        "\n",
        "    # Print the symmetric difference\n",
        "    print(\"Symmetric difference of the two sets:\", symmetric_diff)\n",
        "\n",
        "# Call the main function\n",
        "main()\n"
      ],
      "metadata": {
        "colab": {
          "base_uri": "https://localhost:8080/"
        },
        "id": "dc3THcRIQdcO",
        "outputId": "7c321d20-8910-47bf-f1f0-3f081ae826af"
      },
      "execution_count": 14,
      "outputs": [
        {
          "output_type": "stream",
          "name": "stdout",
          "text": [
            "Enter the first set of strings (separated by commas): apple,banana,orange\n",
            "Enter the second set of strings (separated by commas): banana,grape,apple\n",
            "Symmetric difference of the two sets: {'orange', 'grape'}\n"
          ]
        }
      ]
    },
    {
      "cell_type": "code",
      "source": [
        "#31. Write a code that takes a list of words as input and returns a dictionary where the keys are unique words  and the values are the frequencies of those words in the input list\n",
        "\n",
        "\n",
        "def word_frequency(words):\n",
        "    # Create an empty dictionary to store word frequencies\n",
        "    frequency_dict = {}\n",
        "\n",
        "    # Loop through each word in the list\n",
        "    for word in words:\n",
        "        # If the word is already in the dictionary, increment its count\n",
        "        if word in frequency_dict:\n",
        "            frequency_dict[word] += 1\n",
        "        else:\n",
        "            # Otherwise, add the word to the dictionary with a count of 1\n",
        "            frequency_dict[word] = 1\n",
        "\n",
        "    return frequency_dict\n",
        "\n",
        "# Example usage\n",
        "input_words = input(\"Enter a list of words (separated by commas): \").split(',')\n",
        "# Clean up extra spaces from the words\n",
        "input_words = [word.strip() for word in input_words]\n",
        "\n",
        "result = word_frequency(input_words)\n",
        "print(\"Word frequencies:\", result)\n",
        "\n"
      ],
      "metadata": {
        "colab": {
          "base_uri": "https://localhost:8080/"
        },
        "id": "6VEc6R8PQdfV",
        "outputId": "295f2f7d-e972-4e3c-939b-05edb193bbb9"
      },
      "execution_count": 15,
      "outputs": [
        {
          "output_type": "stream",
          "name": "stdout",
          "text": [
            "Enter a list of words (separated by commas): apple, banana, apple, orange, banana, apple\n",
            "Word frequencies: {'apple': 3, 'banana': 2, 'orange': 1}\n"
          ]
        }
      ]
    },
    {
      "cell_type": "code",
      "source": [
        "#32.  Write a code that takes two dictionaries as input and merges them into a single dictionary. If there are  common keys, the values should be added together\n",
        "\n",
        "\n",
        "def merge_dictionaries(dict1, dict2):\n",
        "    # Create a new dictionary to store the merged result\n",
        "    merged_dict = dict1.copy()  # Start with a copy of the first dictionary\n",
        "\n",
        "    # Loop through the second dictionary\n",
        "    for key, value in dict2.items():\n",
        "        if key in merged_dict:\n",
        "            # If the key already exists, add the values together\n",
        "            merged_dict[key] += value\n",
        "        else:\n",
        "            # If the key doesn't exist, add it to the merged dictionary\n",
        "            merged_dict[key] = value\n",
        "\n",
        "    return merged_dict\n",
        "\n",
        "# Example usage\n",
        "dict1 = eval(input(\"Enter the first dictionary: \"))\n",
        "dict2 = eval(input(\"Enter the second dictionary: \"))\n",
        "\n",
        "result = merge_dictionaries(dict1, dict2)\n",
        "print(\"Merged dictionary:\", result)\n",
        "\n"
      ],
      "metadata": {
        "colab": {
          "base_uri": "https://localhost:8080/"
        },
        "id": "KaemSsyLQdie",
        "outputId": "cf85b368-9a3d-4878-b393-e74fea6778d6"
      },
      "execution_count": 17,
      "outputs": [
        {
          "output_type": "stream",
          "name": "stdout",
          "text": [
            "Enter the first dictionary: {'a': 1, 'b': 2, 'c': 3}\n",
            "Enter the second dictionary:  {'b': 3, 'c': 4, 'd': 5}\n",
            "Merged dictionary: {'a': 1, 'b': 5, 'c': 7, 'd': 5}\n"
          ]
        }
      ]
    },
    {
      "cell_type": "code",
      "source": [
        "#33.  Write a code to access a value in a nested dictionary. The function should take the dictionary and a list of  keys as input, and return the corresponding value. If any of the keys do not exist in the dictionary, the  function should return None\n",
        "\n",
        "\n",
        "def get_nested_value(nested_dict, keys):\n",
        "    # Loop through the list of keys to access the value\n",
        "    for key in keys:\n",
        "        # Check if the key exists in the current dictionary level\n",
        "        if key in nested_dict:\n",
        "            nested_dict = nested_dict[key]  # Move to the next level of the dictionary\n",
        "        else:\n",
        "            return None  # Return None if a key doesn't exist\n",
        "    return nested_dict  # Return the final value when all keys are found\n",
        "\n",
        "# Example usage\n",
        "nested_dict = {\n",
        "    'a': {\n",
        "        'b': {\n",
        "            'c': 10\n",
        "        },\n",
        "        'd': 20\n",
        "    },\n",
        "    'e': 30\n",
        "}\n",
        "\n",
        "keys = input(\"Enter the list of keys (separated by commas): \").split(',')\n",
        "keys = [key.strip() for key in keys]  # Clean up spaces from the keys\n",
        "\n",
        "value = get_nested_value(nested_dict, keys)\n",
        "print(\"The value is:\", value)\n",
        "\n"
      ],
      "metadata": {
        "colab": {
          "base_uri": "https://localhost:8080/"
        },
        "id": "TeNavdTiQdll",
        "outputId": "8987a600-4cea-41fe-bcda-0f6f02bc57fe"
      },
      "execution_count": 18,
      "outputs": [
        {
          "output_type": "stream",
          "name": "stdout",
          "text": [
            "Enter the list of keys (separated by commas): a, b, c\n",
            "The value is: 10\n"
          ]
        }
      ]
    },
    {
      "cell_type": "code",
      "source": [
        "#34.  Write a code that takes a dictionary as input and returns a sorted version of it based on the values. You  can choose whether to sort in ascending or descending order\n",
        "\n",
        "\n",
        "def sort_dict_by_value(input_dict, descending=False):\n",
        "    # Sort the dictionary by values and return a new dictionary\n",
        "    sorted_dict = dict(sorted(input_dict.items(), key=lambda item: item[1], reverse=descending))\n",
        "    return sorted_dict\n",
        "\n",
        "# Example usage\n",
        "input_dict = eval(input(\"Enter the dictionary (e.g., {'a': 3, 'b': 1, 'c': 2}): \"))\n",
        "order = input(\"Enter 'asc' for ascending or 'desc' for descending order: \").strip().lower()\n",
        "\n",
        "# Sort the dictionary based on user input\n",
        "if order == 'asc':\n",
        "    sorted_dict = sort_dict_by_value(input_dict, descending=False)\n",
        "elif order == 'desc':\n",
        "    sorted_dict = sort_dict_by_value(input_dict, descending=True)\n",
        "else:\n",
        "    print(\"Invalid input. Sorting in ascending order by default.\")\n",
        "    sorted_dict = sort_dict_by_value(input_dict, descending=False)\n",
        "\n",
        "print(\"Sorted dictionary:\", sorted_dict)\n",
        "\n"
      ],
      "metadata": {
        "colab": {
          "base_uri": "https://localhost:8080/"
        },
        "id": "Tx6kPemqQdok",
        "outputId": "c2f82d19-c991-495b-c2c9-fcffa601ac80"
      },
      "execution_count": 19,
      "outputs": [
        {
          "output_type": "stream",
          "name": "stdout",
          "text": [
            "Enter the dictionary (e.g., {'a': 3, 'b': 1, 'c': 2}): {'a': 6, 'b': 8, 'c': 3}\n",
            "Enter 'asc' for ascending or 'desc' for descending order: asc\n",
            "Sorted dictionary: {'c': 3, 'a': 6, 'b': 8}\n"
          ]
        }
      ]
    },
    {
      "cell_type": "code",
      "source": [
        "#35. Write a code that inverts a dictionary, swapping keys and values. Ensure that the inverted dictionary  correctly handles cases where multiple keys have the same value by storing the keys as a list in the  inverted dictionary.\n",
        "\n",
        "\n",
        "\n",
        "def invert_dict(input_dict):\n",
        "    inverted_dict = {}\n",
        "\n",
        "    # Iterate through the dictionary and invert the keys and values\n",
        "    for key, value in input_dict.items():\n",
        "        # If the value is already a key in the inverted dictionary, append the current key to the list\n",
        "        if value in inverted_dict:\n",
        "            inverted_dict[value].append(key)\n",
        "        else:\n",
        "            # Otherwise, create a new list with the current key\n",
        "            inverted_dict[value] = [key]\n",
        "\n",
        "    return inverted_dict\n",
        "\n",
        "# Example usage\n",
        "input_dict = eval(input(\"Enter the dictionary (e.g., {'a': 1, 'b': 2, 'c': 1}): \"))\n",
        "\n",
        "inverted_dict = invert_dict(input_dict)\n",
        "print(\"Inverted dictionary:\", inverted_dict)\n",
        "\n"
      ],
      "metadata": {
        "colab": {
          "base_uri": "https://localhost:8080/"
        },
        "id": "17Z-FxawQdrh",
        "outputId": "c1a9d7c8-2ad9-4f7b-8647-113a941c133d"
      },
      "execution_count": 20,
      "outputs": [
        {
          "output_type": "stream",
          "name": "stdout",
          "text": [
            "Enter the dictionary (e.g., {'a': 1, 'b': 2, 'c': 1}):  {'a': 4, 'b': 7, 'c': 4}\n",
            "Inverted dictionary: {4: ['a', 'c'], 7: ['b']}\n"
          ]
        }
      ]
    },
    {
      "cell_type": "code",
      "source": [],
      "metadata": {
        "id": "HTxX3MdEQduU"
      },
      "execution_count": null,
      "outputs": []
    },
    {
      "cell_type": "code",
      "source": [],
      "metadata": {
        "id": "Bmb2K5JeQdw3"
      },
      "execution_count": null,
      "outputs": []
    },
    {
      "cell_type": "code",
      "source": [],
      "metadata": {
        "id": "gy3k9GIjQdzV"
      },
      "execution_count": null,
      "outputs": []
    },
    {
      "cell_type": "code",
      "source": [],
      "metadata": {
        "id": "3rxee7z3Qd1b"
      },
      "execution_count": null,
      "outputs": []
    }
  ]
}