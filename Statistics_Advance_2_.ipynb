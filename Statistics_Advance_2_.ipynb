{
  "nbformat": 4,
  "nbformat_minor": 0,
  "metadata": {
    "colab": {
      "provenance": [],
      "authorship_tag": "ABX9TyPe4x1oedk98Geapn0dwDcR",
      "include_colab_link": true
    },
    "kernelspec": {
      "name": "python3",
      "display_name": "Python 3"
    },
    "language_info": {
      "name": "python"
    }
  },
  "cells": [
    {
      "cell_type": "markdown",
      "metadata": {
        "id": "view-in-github",
        "colab_type": "text"
      },
      "source": [
        "<a href=\"https://colab.research.google.com/github/Kuntals007/PW-Skills/blob/main/Statistics_Advance_2_.ipynb\" target=\"_parent\"><img src=\"https://colab.research.google.com/assets/colab-badge.svg\" alt=\"Open In Colab\"/></a>"
      ]
    },
    {
      "cell_type": "markdown",
      "source": [
        "Question1: Define the z-statistic and explain its relationship to the standard normal distribution. How is the z-statistic used in hypothesis testing?"
      ],
      "metadata": {
        "id": "CNX1vpEGTG5w"
      }
    },
    {
      "cell_type": "code",
      "execution_count": null,
      "metadata": {
        "id": "njE_GHcASwD3"
      },
      "outputs": [],
      "source": [
        "\n",
        "\n",
        "# Definition of the Z-Statistic #\n",
        "\n",
        "The z-statistic (or z-score) is a statistical measure that quantifies how many standard deviations a data point or sample mean is away from\n",
        "the population mean.\n",
        "\n",
        "# Relationship to the Standard Normal Distribution #\n",
        "\n",
        "The z-statistic is directly related to the standard normal distribution, which is a probability distribution with a mean of 0 and a standard\n",
        "deviation of 1. When a dataset is transformed into z-scores, the values are normalized to this standard normal distribution, allowing for\n",
        "comparisons across different datasets or scales.\n",
        "\n",
        "The standard normal distribution table (z-table) provides probabilities associated with z-scores, helping determine how extreme or\n",
        "typical a value is within the context of a normal distribution.\n",
        "\n",
        "\n",
        "\n",
        "# Key Applications of the Z-Statistic\n",
        "\n",
        "Testing Means: Compare a sample mean to a known population mean.\n",
        "Proportions: Assess whether a sample proportion differs from a population proportion.\n",
        "Confidence Intervals: Construct confidence intervals for population parameters using z-scores.\n",
        "The z-statistic is particularly useful when the sample size is large or when the population standard deviation is known.\n",
        "For smaller samples with unknown the t-statistic is typically used instead.\n"
      ]
    },
    {
      "cell_type": "code",
      "source": [],
      "metadata": {
        "id": "2rkYfJ0jS1yG"
      },
      "execution_count": null,
      "outputs": []
    },
    {
      "cell_type": "markdown",
      "source": [
        "Question2 : What is a p-value, and how is it used in hypothesis testing What does it mean if the p-value is very small (e.g., 0.01)?"
      ],
      "metadata": {
        "id": "dR592ZDNXv76"
      }
    },
    {
      "cell_type": "code",
      "source": [
        "# Defination\n",
        "\n",
        "A p-value is the probability of observing data as extreme as, or more extreme than, what was actually observed,\n",
        "assuming that the null hypothesis is true. It quantifies how well the observed data align with the null hypothesis.\n",
        "\n",
        "# Mathematically:\n",
        "\n",
        "A smaller p-value indicates stronger evidence against the null hypothesis.\n",
        "A larger p-value suggests the data is consistent with the null hypothesis.\n",
        "\n",
        "# Interpreting a Very Small P-Value (e.g., 0.01)\n",
        "\n",
        "A p-value of 0.01 means there is only a 1% probability of observing the given data, or more extreme data, if the null hypothesis is true.\n",
        "This suggests strong evidence against the null hypothesis. At a significance level of\n",
        "α=0.05, you would reject the null hypothesis and conclude that the alternative hypothesis is likely true."
      ],
      "metadata": {
        "id": "jdlDRmWNS1v0"
      },
      "execution_count": null,
      "outputs": []
    },
    {
      "cell_type": "code",
      "source": [],
      "metadata": {
        "id": "fKNLOgfnS1tM"
      },
      "execution_count": null,
      "outputs": []
    },
    {
      "cell_type": "markdown",
      "source": [
        "Question3: Compare and contrast the binomial and Bernoulli distributions."
      ],
      "metadata": {
        "id": "46hcetmVaWXJ"
      }
    },
    {
      "cell_type": "code",
      "source": [
        "# Definition\n",
        "\n",
        " Bernoulli Distribution:\n",
        "          Models the outcome of a single trial with two possible outcomes: success (1) or failure (0).\n",
        "          Probability of success is p, and probability of failure is 1−p.\n",
        "\n",
        "Binomial Distribution:\n",
        "        Models the number of successes in n independent and identical Bernoulli trials.\n",
        "        Each trial has the same probability of success p.\n",
        "\n",
        "\n",
        "# Parameters\n",
        "\n",
        "Bernoulli:\n",
        "    Single parameter: p (probability of success).\n",
        "\n",
        "Binomial:\n",
        "    Two parameters:n (number of trials) and p (probability of success for each trial).\n",
        "\n",
        "\n",
        "#Example\n",
        "\n",
        "Bernoulli:\n",
        "    A single coin flip where p=0.5. Outcome: Heads (1) or Tails (0).\n",
        "\n",
        "Binomial:\n",
        "    Number of heads observed in 10 independent coin flips, where p=0.5.\n",
        "\n",
        "\n",
        "# In summary,\n",
        "    the Bernoulli distribution describes a single binary outcome, while the binomial distribution extends this concept to\n",
        "    multiple trials, aggregating the outcomes into the number of successes.\n",
        "\n"
      ],
      "metadata": {
        "id": "j9_17CYlS1p-"
      },
      "execution_count": null,
      "outputs": []
    },
    {
      "cell_type": "code",
      "source": [],
      "metadata": {
        "id": "9arlhhrCS1nF"
      },
      "execution_count": null,
      "outputs": []
    },
    {
      "cell_type": "markdown",
      "source": [
        "Question 4: Under what conditions is the binomial distribution used, and how does it relate to the Bernoulli\n",
        "distribution?"
      ],
      "metadata": {
        "id": "nhla9XKEfSSl"
      }
    },
    {
      "cell_type": "code",
      "source": [
        "# Conditions for Using the Binomial Distribution\n",
        "\n",
        "The binomial distribution is appropriate under the following conditions:\n",
        "\n",
        "Fixed Number of Trials (n):\n",
        "      The experiment consists of a fixed number of independent trials.\n",
        "\n",
        "\n",
        "Two Possible Outcomes per Trial:\n",
        "      Each trial results in one of two outcomes: success or failure (e.g., heads or tails, pass or fail).\n",
        "\n",
        "Constant Probability of Success (p):\n",
        "      The probability of success (p) remains the same for all trials.\n",
        "\n",
        "Independent Trials:\n",
        "      The outcome of one trial does not affect the outcomes of others.\n",
        "\n",
        "Discrete Random Variable:\n",
        "      The variable of interest is the total number of successes (X) across all trials.\n",
        "\n",
        "\n",
        "\n",
        "# Relation to the Bernoulli Distribution\n",
        "\n",
        "The binomial distribution is an extension of the Bernoulli distribution. Here’s how they are related:\n",
        "\n",
        "A Bernoulli distribution models the outcome of a single trial with two possible outcomes: success (1) or failure (0).\n",
        "\n",
        "A binomial distribution models the total number of successes (X) in n independent Bernoulli trials.\n",
        "\n",
        "\n",
        "\n",
        "\n",
        "# In Summery,\n",
        "      The binomial distribution is used to model multiple independent trials where each trial follows a Bernoulli distribution.\n",
        "      Essentially, the binomial distribution aggregates the results of repeated Bernoulli trials.\n",
        "\n"
      ],
      "metadata": {
        "id": "6mbL4QjFS1kU"
      },
      "execution_count": null,
      "outputs": []
    },
    {
      "cell_type": "code",
      "source": [],
      "metadata": {
        "id": "cKlQ3y6IS1hM"
      },
      "execution_count": null,
      "outputs": []
    },
    {
      "cell_type": "markdown",
      "source": [
        "Question5: What are the key properties of the Poisson distribution, and when is it appropriate to use this\n",
        "distribution?"
      ],
      "metadata": {
        "id": "mdbdtuQXhEM_"
      }
    },
    {
      "cell_type": "code",
      "source": [
        "# Key Properties of the Poisson Distribution\n",
        "The Poisson distribution is a discrete probability distribution that models the number of events occurring in a fixed interval of time,\n",
        "space, or other units, under certain conditions. Its key properties include:\n",
        "\n",
        "Discrete Random Variable:\n",
        "      The Poisson distribution models the count of events (X) in a fixed interval. Possible values of X are non-negative integers: X= 1,2,3,4...\n",
        "\n",
        "Parameter:\n",
        "      The distribution is characterized by a single parameter, λ (lambda), which represents\n",
        "      The average number of events occurring in the fixed interval.\n",
        "\n",
        "Skewness:\n",
        "      The Poisson distribution is positively skewed, especially for small λ. As λ increases, the distribution becomes more symmetric and\n",
        "      approaches a normal distribution (via the Central Limit Theorem).\n",
        "\n",
        "\n",
        "\n",
        "#When to Use the Poisson Distribution\n",
        "\n",
        "The Poisson distribution is appropriate under the following conditions:\n",
        "\n",
        "Counting Events:\n",
        "      The distribution is used to model the count of events in a fixed interval of time, space, or other measurement units (e.g., area, volume).\n",
        "\n",
        "Random and Independent Events:\n",
        "      Events occur randomly and independently of one another.\n",
        "\n",
        "Constant Average Rate (λ):\n",
        "      The average number of events (λ) is constant over the given interval.\n",
        "\n",
        "No Simultaneous Events:\n",
        "      Two events cannot occur at the exact same instant or location.\n",
        "\n",
        "\n"
      ],
      "metadata": {
        "id": "fDoILByDS1eN"
      },
      "execution_count": null,
      "outputs": []
    },
    {
      "cell_type": "code",
      "source": [],
      "metadata": {
        "id": "tsj9xUqGS1bE"
      },
      "execution_count": null,
      "outputs": []
    },
    {
      "cell_type": "markdown",
      "source": [
        "Question6: Define the terms \"probability distribution\" and \"probability density function\" (PDF). How does a\n",
        "PDF differ from a probability mass function (PMF)?"
      ],
      "metadata": {
        "id": "WbBI_3KKiyCw"
      }
    },
    {
      "cell_type": "code",
      "source": [
        "# Probability Distribution:\n",
        "\n",
        "A probability distribution describes how the probabilities are distributed across the possible outcomes of a random variable.\n",
        "It can be expressed as:\n",
        "\n",
        "A probability mass function (PMF) for discrete random variables.\n",
        "\n",
        "A probability density function (PDF) for continuous random variables.\n",
        "\n",
        "Probability Density Function (PDF):\n",
        "      A PDF is a function that describes the likelihood of a continuous random variable taking on a particular value within an interval.\n",
        "      The PDF does not directly give probabilities but provides a density, which must be integrated over an interval to obtain a probability\n",
        "\n",
        "Probability Mass Function (PMF):\n",
        "    A Probability Mass Function (PMF) is a function that gives the probability of a discrete random variable taking on a specific value.\n",
        "    It provides the probability associated with each possible outcome of a discrete random variable.\n",
        "\n",
        "\n",
        "\n",
        "\n",
        "# In Summery,\n",
        "    A PDF is specific to continuous variables and requires integration to find probabilities,\n",
        "    while a PMF applies to discrete variables and gives probabilities directly.\n",
        "\n",
        "\n"
      ],
      "metadata": {
        "id": "g6dYStr3S1V2"
      },
      "execution_count": null,
      "outputs": []
    },
    {
      "cell_type": "code",
      "source": [],
      "metadata": {
        "id": "WPJXNnZoS1TO"
      },
      "execution_count": null,
      "outputs": []
    },
    {
      "cell_type": "markdown",
      "source": [
        "Question7: Explain the Central Limit Theorem (CLT) with example.\n"
      ],
      "metadata": {
        "id": "VkqlvMY4k09O"
      }
    },
    {
      "cell_type": "code",
      "source": [
        "# Defination\n",
        "The Central Limit Theorem (CLT) is a fundamental concept in statistics that describes\n",
        "the behavior of the sampling distribution of the sample mean.\n",
        "\n",
        "\n",
        "# Statement of the Central Limit Theorem\n",
        "\n",
        "The CLT states that:\n",
        "\n",
        "For any population (regardless of its original distribution), if you take repeated random samples of sizen from the population:\n",
        "\n",
        "  . The sampling distribution of the sample mean will approach a normal distribution as the sample size (n) increases.\n",
        "\n",
        "  . This holds true regardless of whether the population distribution is normal.\n",
        "\n",
        "\n",
        "The mean and standard deviation of the sampling distribution are:\n",
        "\n",
        "  . Mean: (the population mean).\n",
        "\n",
        "  . Standard Deviation: (the population standard deviation divided by the square root of the sample size).\n",
        "\n",
        "The approximation improves as the sample size increases. For most practical purposes, a sample size of (n ≥ 30) is often\n",
        "sufficient for the CLT to hold.\n",
        "\n",
        "\n",
        "\n",
        "# Practical Applications of the CLT\n",
        "\n",
        "1. Confidence Intervals\n",
        "2. Hypothesis Testing\n",
        "3. Predicting Outcomes\n",
        "\n"
      ],
      "metadata": {
        "id": "NFhXMmAzS1QQ"
      },
      "execution_count": null,
      "outputs": []
    },
    {
      "cell_type": "code",
      "source": [],
      "metadata": {
        "id": "GEACs-HKS1NX"
      },
      "execution_count": null,
      "outputs": []
    },
    {
      "cell_type": "markdown",
      "source": [
        "\n",
        "Question8: Compare z-scores and t-scores. When should you use a z-score, and when should a t-score be applied instead?\n"
      ],
      "metadata": {
        "id": "kTuL7y6Tmw7W"
      }
    },
    {
      "cell_type": "code",
      "source": [
        "# Comparison of Z-Scores and T-Scores\n",
        "Both z-scores and t-scores are measures used in hypothesis testing and confidence interval calculations.\n",
        "They standardize a sample statistic to allow comparison against a reference distribution, but their use depends on specific conditions.\n",
        "\n",
        "# z-Scores\n",
        "\n",
        "Definition:\n",
        "    A z-score is a measure of how many standard deviations a data point or sample mean is from the population mean.\n",
        "\n",
        "# t-Scores\n",
        "\n",
        "Definition:\n",
        "    A t-score is similar to a z-score but is used when the population standard deviation (σ) is unknown and the sample standard deviation (s) is\n",
        "    used as an estimate.\n",
        "\n",
        "\n",
        "\n",
        "# In Summery,\n",
        "\n",
        "    Z-scores are used when the population standard deviation is known and for large sample sizes.\n",
        "\n",
        "    T-scores are used when the population standard deviation is unknown or for smaller sample sizes.\n",
        "\n",
        "The t-distribution is more conservative due to its heavier tails, making it appropriate for smaller samples.\n"
      ],
      "metadata": {
        "id": "_VAQi7rNS1KO"
      },
      "execution_count": null,
      "outputs": []
    },
    {
      "cell_type": "code",
      "source": [],
      "metadata": {
        "id": "BU6YG9g9S1HO"
      },
      "execution_count": null,
      "outputs": []
    },
    {
      "cell_type": "markdown",
      "source": [
        "Question9: Given a sample mean of 105, a population mean of 100, a standard deviation of 15, and a sample\n",
        "size of 25, calculate the z-score and p-value. Based on a significance level of 0.05, do you reject or fail to\n",
        "reject the null hypothesis?\n",
        "\n",
        " Task: Write Python code to calculate the z-score and p-value for the given data.\n",
        "\n",
        "Objective: Apply the formula for the z-score and interpret the p-value for hypothesis testing."
      ],
      "metadata": {
        "id": "Dm_U8WeUoMsn"
      }
    },
    {
      "cell_type": "code",
      "source": [
        "# z-score\n",
        "\n",
        "\n",
        "import scipy.stats as stats\n",
        "\n",
        "# Given data\n",
        "sample_mean = 105\n",
        "population_mean = 100\n",
        "population_std = 15\n",
        "sample_size = 25\n",
        "alpha = 0.05\n",
        "\n",
        "# Calculate the z-score\n",
        "z_score = (sample_mean - population_mean) / (population_std / (sample_size ** 0.5))\n",
        "\n",
        "# Calculate the p-value (two-tailed test)\n",
        "p_value = 2 * (1 - stats.norm.cdf(abs(z_score)))\n",
        "\n",
        "# Decision based on significance level\n",
        "reject_null = p_value < alpha\n",
        "\n",
        "z_score, p_value, reject_null\n"
      ],
      "metadata": {
        "colab": {
          "base_uri": "https://localhost:8080/"
        },
        "id": "B4-cO18ES1EW",
        "outputId": "798e5b43-e71d-434e-a108-060e82b493f8"
      },
      "execution_count": 1,
      "outputs": [
        {
          "output_type": "execute_result",
          "data": {
            "text/plain": [
              "(1.6666666666666667, 0.09558070454562939, False)"
            ]
          },
          "metadata": {},
          "execution_count": 1
        }
      ]
    },
    {
      "cell_type": "code",
      "source": [
        "# t-score\n",
        "\n",
        "                  # Because the sample size is less than 30 (n < 30) thats why i think this should conduct t-test\n",
        "\n",
        "import scipy.stats as stats\n",
        "import math\n",
        "\n",
        "# Given values\n",
        "sample_mean = 105\n",
        "population_mean = 100\n",
        "std_dev = 15\n",
        "sample_size = 25\n",
        "alpha = 0.05\n",
        "\n",
        "# Calculate the z-score\n",
        "z_score = (sample_mean - population_mean) / (std_dev / math.sqrt(sample_size))\n",
        "\n",
        "# Calculate the p-value for the z-score\n",
        "p_value = 2 * (1 - stats.norm.cdf(abs(z_score)))\n",
        "\n",
        "# Decision based on p-value and significance level\n",
        "reject_null = p_value < alpha\n",
        "\n",
        "z_score, p_value, reject_null\n",
        "#\n",
        "\n"
      ],
      "metadata": {
        "colab": {
          "base_uri": "https://localhost:8080/"
        },
        "id": "cL_sY8eMS1BI",
        "outputId": "f06ca217-1705-4732-f6b3-3b954656d3ef"
      },
      "execution_count": 3,
      "outputs": [
        {
          "output_type": "execute_result",
          "data": {
            "text/plain": [
              "(1.6666666666666667, 0.09558070454562939, False)"
            ]
          },
          "metadata": {},
          "execution_count": 3
        }
      ]
    },
    {
      "cell_type": "code",
      "source": [],
      "metadata": {
        "id": "5bBCGsGXS0-W"
      },
      "execution_count": null,
      "outputs": []
    },
    {
      "cell_type": "markdown",
      "source": [
        "Question10: Simulate a binomial distribution with 10 trials and a probability of success of 0.6 using Python.\n",
        "Generate 1,000 samples and plot the distribution. What is the expected mean and variance?\n",
        "\n",
        "Task: Use Python to generate the data, plot the distribution, and calculate the mean and variance.\n",
        "\n",
        "Objective: Understand the properties of a binomial distribution and verify them through simulation."
      ],
      "metadata": {
        "id": "0vzE30xQsnDE"
      }
    },
    {
      "cell_type": "code",
      "source": [
        "import numpy as np\n",
        "import matplotlib.pyplot as plt\n",
        "\n",
        "# Parameters for the binomial distribution\n",
        "n_trials = 10\n",
        "p_success = 0.6\n",
        "n_samples = 1000\n",
        "\n",
        "# Simulate the binomial distribution\n",
        "samples = np.random.binomial(n_trials, p_success, n_samples)\n",
        "\n",
        "# Calculate the mean and variance\n",
        "mean = np.mean(samples)\n",
        "variance = np.var(samples)\n",
        "\n",
        "# Plot the distribution\n",
        "plt.hist(samples, bins=np.arange(min(samples), max(samples) + 2) - 0.5, edgecolor='black', alpha=0.7)\n",
        "plt.title('Binomial Distribution (10 trials, p=0.6)')\n",
        "plt.xlabel('Number of successes')\n",
        "plt.ylabel('Frequency')\n",
        "plt.show()\n",
        "\n",
        "mean, variance\n"
      ],
      "metadata": {
        "colab": {
          "base_uri": "https://localhost:8080/",
          "height": 489
        },
        "id": "H9byDCsiS063",
        "outputId": "e31ef710-520a-4c15-f3c9-003c00c33f3a"
      },
      "execution_count": 6,
      "outputs": [
        {
          "output_type": "display_data",
          "data": {
            "text/plain": [
              "<Figure size 640x480 with 1 Axes>"
            ],
            "image/png": "[encoded data removed]"
          },
          "metadata": {}
        },
        {
          "output_type": "execute_result",
          "data": {
            "text/plain": [
              "(6.066, 2.313644)"
            ]
          },
          "metadata": {},
          "execution_count": 6
        }
      ]
    },
    {
      "cell_type": "code",
      "source": [],
      "metadata": {
        "id": "1czS3N1zS04Q"
      },
      "execution_count": null,
      "outputs": []
    },
    {
      "cell_type": "code",
      "source": [],
      "metadata": {
        "id": "JZzToyr3S00-"
      },
      "execution_count": null,
      "outputs": []
    },
    {
      "cell_type": "code",
      "source": [],
      "metadata": {
        "id": "uWfY_QS_S0yG"
      },
      "execution_count": null,
      "outputs": []
    },
    {
      "cell_type": "code",
      "source": [],
      "metadata": {
        "id": "00rAu7t6S0vX"
      },
      "execution_count": null,
      "outputs": []
    },
    {
      "cell_type": "code",
      "source": [],
      "metadata": {
        "id": "0faiUBHeS0sW"
      },
      "execution_count": null,
      "outputs": []
    },
    {
      "cell_type": "code",
      "source": [],
      "metadata": {
        "id": "wKOCLevOS0pX"
      },
      "execution_count": null,
      "outputs": []
    },
    {
      "cell_type": "code",
      "source": [],
      "metadata": {
        "id": "F0F1D9ypS0m2"
      },
      "execution_count": null,
      "outputs": []
    },
    {
      "cell_type": "code",
      "source": [],
      "metadata": {
        "id": "jSXI9YQcS0kO"
      },
      "execution_count": null,
      "outputs": []
    },
    {
      "cell_type": "code",
      "source": [],
      "metadata": {
        "id": "3vU63xeFS0hH"
      },
      "execution_count": null,
      "outputs": []
    }
  ]
}