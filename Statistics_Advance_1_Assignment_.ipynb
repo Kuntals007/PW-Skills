{
  "nbformat": 4,
  "nbformat_minor": 0,
  "metadata": {
    "colab": {
      "provenance": []
    },
    "kernelspec": {
      "name": "python3",
      "display_name": "Python 3"
    },
    "language_info": {
      "name": "python"
    }
  },
  "cells": [
    {
      "cell_type": "code",
      "source": [
        "# Q.1 explain the properties of the F-distribution.\n",
        "\n",
        "'''\n",
        "\n",
        "The F-distribution is a continuous probability distribution commonly used in statistical tests, such as the ANOVA and F-test,\n",
        "for comparing variances. It arises as the ratio of two independent chi-squared distributions divided by their respective degrees of freedom.\n",
        "Here are its key properties.\n",
        "\n",
        "\n",
        "~ Hypothesis Testing ~\n",
        "The F-distribution is used for:-\n",
        "\n",
        "ANOVA: Testing equality of group means by comparing variance within groups to variance between groups.\n",
        "\n",
        "Variance Comparison: Testing if two populations have equal variances.\n",
        "\n",
        "Regression: Assessing the overall significance of a regression model.\n",
        "\n",
        "\n",
        "~ Tail Probabilities ~\n",
        "The F-distribution is used in right-tailed tests because variance ratios cannot be negative.\n",
        "\n",
        "\n",
        "\n",
        " # These properties make the F-distribution a fundamental tool in inferential statistics,\n",
        "particularly for comparing variances and assessing model fits. #"
      ],
      "metadata": {
        "id": "Y0h9STZjDrIW"
      },
      "execution_count": null,
      "outputs": []
    },
    {
      "cell_type": "code",
      "source": [],
      "metadata": {
        "id": "7-u3Gi3qDrFl"
      },
      "execution_count": null,
      "outputs": []
    },
    {
      "cell_type": "code",
      "source": [
        "# Q.2 In which types of statistical tests is the F-distribution used, and why is it appropriate for these tests?\n",
        "\n",
        "'''\n",
        "The F-distribution is used in a variety of statistical tests where comparing variances or testing ratios of variances is essential.\n",
        "Here are the main types of statistical tests that utilize the F-distribution and the reasons why it is appropriate for these tests.\n",
        "\n",
        "\n",
        "~ Analysis of Variance (ANOVA) ~\n",
        "\n",
        "Purpose:\n",
        "To compare the means of two or more groups by analyzing the ratio of between-group variance to within-group variance.\n",
        "\n",
        "\n",
        "Appropriateness:\n",
        "The F-distribution is ideal for this test because the test statistic is a ratio of two variances.\n",
        "A large F-statistic suggests significant differences between group means relative to within-group variability.\n",
        "\n",
        "\n",
        "\n",
        "~ F-Test for Equality of Variances ~\n",
        "\n",
        "Purpose:\n",
        "To compare the variances of two populations to determine if they are equal.\n",
        "\n",
        "Appropriateness:\n",
        "The F-distribution is derived directly from the ratio of variances, making it the natural choice for this test.\n",
        "Variances are always non-negative, matching the non-negativity of the F-distribution.\n",
        "\n",
        "\n",
        "\n",
        "\n",
        "Why is the F-Distribution Appropriate?\n",
        "\n",
        "1. The F-distribution is derived from the ratio of two independent sample variances, which aligns perfectly with the tests that compare variances.\n",
        "2. The shape of the F-distribution depends on degrees of freedom for the numerator and denominator, allowing flexibility for different sample sizes.\n",
        "3. The right-skewed nature of the F-distribution enables sensitivity to extreme variance ratios, making it a good fit for hypothesis testing.\n",
        "\n",
        "'''"
      ],
      "metadata": {
        "id": "RKxXyOJzDq8s"
      },
      "execution_count": null,
      "outputs": []
    },
    {
      "cell_type": "code",
      "source": [],
      "metadata": {
        "id": "cZvfy9xeDq11"
      },
      "execution_count": null,
      "outputs": []
    },
    {
      "cell_type": "code",
      "source": [
        "# Q.3 What are the key assumptions required for conducting an F-test to compare the variances of two populations?\n",
        "\n",
        "'''\n",
        "\n",
        "The F-test for comparing the variances of two populations requires several key assumptions to ensure the validity of the test.\n",
        "These assumptions are as follows:\n",
        "\n",
        "\n",
        "1. Independence of Observations\n",
        "The data samples from each population must be independent of each other.\n",
        "Each observation within a sample must also be independent of other observations in the same sample.\n",
        "Violations of this assumption (e.g., paired or correlated samples) can lead to invalid conclusions.\n",
        "\n",
        "2. Normality of Populations\n",
        "The populations from which the samples are drawn must follow a normal distribution.\n",
        "This assumption is critical because the F-distribution is derived based on the normality of the underlying data.\n",
        "If normality is violated, the F-test may produce inaccurate results, especially for small sample sizes.\n",
        "\n",
        "3. Random Sampling\n",
        "The samples must be randomly selected from the populations of interest.\n",
        "Random sampling ensures that the results are representative and unbiased.\n",
        "\n",
        "4. Non-Negativity of Variances\n",
        "Variances cannot be negative, as they represent squared deviations.\n",
        "The F-test inherently assumes that all variances are non-negative\n",
        "\n",
        "\n",
        "'''\n",
        "\n",
        "\n",
        "\n",
        "\n",
        "\n"
      ],
      "metadata": {
        "id": "CcVPsMulDqyt"
      },
      "execution_count": null,
      "outputs": []
    },
    {
      "cell_type": "code",
      "source": [
        "# Q.4 What is the purpose of ANOVA, and how does it differ from a t-test?\n",
        "\n",
        "'''\n",
        "\n",
        "~ Purpose of ANOVA ~\n",
        "\n",
        "The primary purpose of Analysis of Variance (ANOVA) is to test whether there are statistically significant differences in the means of three\n",
        "or more groups or categories. It examines the variation between groups compared to the variation within groups to determine if the group means\n",
        "are different beyond what could be expected due to random chance.\n",
        "\n",
        "\n",
        "\n",
        "Key Differences\n",
        "\n",
        "* Number of Groups: *\n",
        "---------------------\n",
        "The t-test is limited to comparing two group means.\n",
        "\n",
        "ANOVA handles three or more groups simultaneously, making it more versatile for multi-group comparisons.\n",
        "\n",
        "* Type I Error Control: *\n",
        "-------------------------\n",
        "Conducting multiple t-tests increases the likelihood of a Type I error (incorrectly rejecting the null hypothesis).\n",
        "\n",
        "ANOVA mitigates this by testing all groups at once under a single null hypothesis.\n",
        "\n",
        "* b Post-Hoc Testing: *\n",
        "-----------------------\n",
        "ANOVA tells you if there is a significant difference among groups, but it does not specify which groups differ. Post-hoc tests (e.g., Tukey's HSD) are required for pairwise comparisons.\n",
        "\n",
        "In contrast, a t-test directly compares the two groups in question.\n",
        "\n",
        "* Underlying Test Statistic: *\n",
        "-----------------------------\n",
        "\n",
        "The t-test uses the t-statistic derived from the difference between means.\n",
        "\n",
        "ANOVA uses the F-statistic derived from the ratio of variances.\n",
        "\n",
        "\n",
        "'''\n",
        "\n"
      ],
      "metadata": {
        "id": "UzyrOVB6Gn6k"
      },
      "execution_count": null,
      "outputs": []
    },
    {
      "cell_type": "code",
      "source": [],
      "metadata": {
        "id": "ur5azJbFGn4F"
      },
      "execution_count": null,
      "outputs": []
    },
    {
      "cell_type": "code",
      "source": [
        "# Q.5 Explain when and why you would use a one-way ANOVA instead of multiple t-tests when comparing more than two groups.\n",
        "\n",
        "'''\n",
        "\n",
        "You would use a one-way ANOVA instead of multiple t-tests when comparing more than two groups for the following reasons:\n",
        "\n",
        "1. Efficiency and Simplicity\n",
        "\n",
        "Problem with Multiple t-Tests:\n",
        "      Conducting and interpreting multiple t-tests is time-consuming and inefficient, especially as the number of groups increases.\n",
        "\n",
        "Solution with ANOVA:\n",
        "      ANOVA provides a single test to determine if there are any significant differences among the group means, simplifying the analysis.\n",
        "\n",
        "\n",
        "2. Provides a Comprehensive Comparison\n",
        "\n",
        "Limitations of t-Tests:\n",
        "      A t-test compares only two means at a time. While this can identify pairwise differences, it doesn’t provide a holistic view of\n",
        "       whether differences exist across all groups.\n",
        "Advantage of ANOVA:\n",
        "      ANOVA considers the variability across all groups simultaneously, making it a better choice for testing the overall\n",
        "       null hypothesis that all group means are equal.\n",
        "\n",
        "3. Ensures Validity of Results\n",
        "\n",
        "Problem with Multiple Testing:\n",
        "      The assumptions of independence and normality may be harder to justify across multiple pairwise t-tests.\n",
        "\n",
        "ANOVA as a Solution:\n",
        "      ANOVA accounts for all data points together, making it more robust and valid for comparing multiple groups.\n",
        "\n",
        "\n",
        "When to Use a One-Way ANOVA..?\n",
        "\n",
        "*. When comparing the means of three or more groups.\n",
        "*. When the groups are independent.\n",
        "*. When the data is approximately normally distributed, and the variances are equal (homogeneity of variances).\n",
        "\n",
        "\n",
        "'''\n"
      ],
      "metadata": {
        "id": "TWWi6kDFGn1k"
      },
      "execution_count": null,
      "outputs": []
    },
    {
      "cell_type": "code",
      "source": [
        "# Q.6  Explain how variance is partitioned in ANOVA into between-group variance and within-group variance. How does this partitioning contribute to the calculation of the F-statistic?\n",
        "\n",
        "\n",
        "'''\n",
        "\n",
        "In ANOVA, the total variance in the dataset is partitioned into two components: between-group variance and within-group variance.\n",
        "This partitioning allows us to determine whether the differences between group means are statistically significant.\n",
        "\n",
        "\n",
        "Between-group variance : Captures how far the group means are from the overall mean.\n",
        "Within-group variance : Captures how far individual observations are from their group mean\n",
        "\n",
        "The F-statistic uses these two variances to test whether the between-group variance is significantly larger than the within-group variance,\n",
        "indicating that at least one group mean differs from the others.\n",
        "\n",
        "'''\n"
      ],
      "metadata": {
        "id": "wIsQWb_WGnyl"
      },
      "execution_count": null,
      "outputs": []
    },
    {
      "cell_type": "code",
      "source": [],
      "metadata": {
        "id": "npLLu0QGLUST"
      },
      "execution_count": null,
      "outputs": []
    },
    {
      "cell_type": "code",
      "source": [
        " # Q.7 Compare the classical (frequentist) approach to ANOVA with the Bayesian approach. What are the key differences in terms of how they handle uncertainty, parameter estimation, and hypothesis testing?\n",
        "\n",
        "\n",
        ""
      ],
      "metadata": {
        "id": "1jfVKbneGnv9"
      },
      "execution_count": null,
      "outputs": []
    },
    {
      "cell_type": "code",
      "source": [],
      "metadata": {
        "id": "5t64GaT4Dqq-"
      },
      "execution_count": null,
      "outputs": []
    },
    {
      "cell_type": "code",
      "source": [
        "# Q.8 Question: You have two sets of data representing the incomes of two different professions\n",
        "\n",
        " # Task: Use Python to calculate the F-statistic and p-value for the given data\n",
        "\n",
        "\n",
        "\n",
        "import numpy as np\n",
        "from scipy.stats import f\n",
        "\n",
        "# Given Data for Profession A and B\n",
        "profession_a = np.array([48, 52, 55, 60, 62])\n",
        "profession_b = np.array([45, 50, 55, 52, 47])\n",
        "\n",
        "# Calculate variances\n",
        "var_a = np.var(profession_a, ddof=1)  # Sample variance (ddof=1 for unbiased estimate)\n",
        "var_b = np.var(profession_b, ddof=1)\n",
        "\n",
        "# Calculate F-statistic\n",
        "f_statistic = var_a / var_b\n",
        "\n",
        "# Degrees of freedom\n",
        "df1 = len(profession_a) - 1\n",
        "df2 = len(profession_b) - 1\n",
        "\n",
        "# Calculate p-value\n",
        "p_value = f.sf(f_statistic, df1, df2)  # Upper tail probability\n",
        "\n",
        "f_statistic, p_value\n"
      ],
      "metadata": {
        "colab": {
          "base_uri": "https://localhost:8080/"
        },
        "id": "dXTZ6Pg6C7Fy",
        "outputId": "7704e69f-5b4d-4c93-9ec1-18f50219f952"
      },
      "execution_count": 1,
      "outputs": [
        {
          "output_type": "execute_result",
          "data": {
            "text/plain": [
              "(2.089171974522293, 0.24652429950266966)"
            ]
          },
          "metadata": {},
          "execution_count": 1
        }
      ]
    },
    {
      "cell_type": "code",
      "source": [
        "'''\n",
        "# Null Hypothesis : The variances of incomes for Profession A and Profession B are equal.\n",
        "\n",
        "# Alternative Hypothesis :The variances of incomes for Profession A and Profession B are not equal.\n",
        "\n",
        "\n",
        "The calculated F-statistic is approximately 2.089, and the p-value is approximately 0.247.\n",
        "\n",
        "The p-value (0.247) is greater than the common significance level (α=0.05).\n",
        "\n",
        "Therefore, we fail to reject the null hypothesis.\n",
        "\n",
        "\n",
        "'''"
      ],
      "metadata": {
        "id": "zSWra2TkC7DJ"
      },
      "execution_count": null,
      "outputs": []
    },
    {
      "cell_type": "code",
      "source": [],
      "metadata": {
        "id": "oqe5BIi7C7BU"
      },
      "execution_count": null,
      "outputs": []
    },
    {
      "cell_type": "code",
      "source": [
        "#Q.9  Question: Conduct a one-way ANOVA to test whether there are any statistically significant differences in average heights between three different regions with the following data\n",
        "\n",
        "#  Task: Write Python code to perform the one-way ANOVA and interpret the results\n",
        "\n",
        "\n",
        "from scipy.stats import f_oneway\n",
        "\n",
        "# Given Data for three regions\n",
        "region_a = [160, 162, 165, 158, 164]\n",
        "region_b = [172, 175, 170, 168, 174]\n",
        "region_c = [180, 182, 179, 185, 183]\n",
        "\n",
        "# Perform one-way ANOVA\n",
        "f_statistic, p_value = f_oneway(region_a, region_b, region_c)\n",
        "\n",
        "f_statistic, p_value\n"
      ],
      "metadata": {
        "colab": {
          "base_uri": "https://localhost:8080/"
        },
        "id": "i_yEH7pgC6_G",
        "outputId": "25f1faaf-2798-4c5d-f63f-0287c18948f7"
      },
      "execution_count": 2,
      "outputs": [
        {
          "output_type": "execute_result",
          "data": {
            "text/plain": [
              "(67.87330316742101, 2.870664187937026e-07)"
            ]
          },
          "metadata": {},
          "execution_count": 2
        }
      ]
    },
    {
      "cell_type": "code",
      "source": [
        "'''\n",
        "\n",
        "# Null Hypothesis : The average heights across the three regions are the same.\n",
        "\n",
        "# Alternative Hypothesis : At least one region has a significantly different average height.\n",
        "\n",
        "\n",
        "\n",
        "The p-value is extremely small (2.87), which is much smaller than the common significance level (α=0.05).\n",
        "\n",
        "Therefore we reject the Null Hypothesis\n",
        "\n",
        "'''"
      ],
      "metadata": {
        "id": "MDqjckGsC68n"
      },
      "execution_count": null,
      "outputs": []
    },
    {
      "cell_type": "code",
      "source": [],
      "metadata": {
        "id": "S3ZKdUYDC650"
      },
      "execution_count": null,
      "outputs": []
    },
    {
      "cell_type": "code",
      "source": [],
      "metadata": {
        "id": "pPKnf4IUC63K"
      },
      "execution_count": null,
      "outputs": []
    },
    {
      "cell_type": "code",
      "source": [],
      "metadata": {
        "id": "4ouzBfqqC60U"
      },
      "execution_count": null,
      "outputs": []
    },
    {
      "cell_type": "code",
      "source": [],
      "metadata": {
        "id": "kIzcygFVC6xq"
      },
      "execution_count": null,
      "outputs": []
    },
    {
      "cell_type": "code",
      "source": [],
      "metadata": {
        "id": "IEgyLlUvC6u2"
      },
      "execution_count": null,
      "outputs": []
    },
    {
      "cell_type": "code",
      "source": [],
      "metadata": {
        "id": "56qNojmiC6sD"
      },
      "execution_count": null,
      "outputs": []
    },
    {
      "cell_type": "code",
      "source": [],
      "metadata": {
        "id": "kB62AJ88C6pj"
      },
      "execution_count": null,
      "outputs": []
    },
    {
      "cell_type": "code",
      "source": [],
      "metadata": {
        "id": "5WNtBV_WC6nD"
      },
      "execution_count": null,
      "outputs": []
    },
    {
      "cell_type": "code",
      "source": [],
      "metadata": {
        "id": "D-CIrVNMC6kI"
      },
      "execution_count": null,
      "outputs": []
    },
    {
      "cell_type": "code",
      "source": [],
      "metadata": {
        "id": "ooVLwistC6hS"
      },
      "execution_count": null,
      "outputs": []
    },
    {
      "cell_type": "code",
      "source": [],
      "metadata": {
        "id": "h7ku7-vqC6e_"
      },
      "execution_count": null,
      "outputs": []
    },
    {
      "cell_type": "code",
      "source": [],
      "metadata": {
        "id": "czsN7BJqC6cG"
      },
      "execution_count": null,
      "outputs": []
    },
    {
      "cell_type": "code",
      "source": [],
      "metadata": {
        "id": "B8EXQ_O1C6ZM"
      },
      "execution_count": null,
      "outputs": []
    },
    {
      "cell_type": "code",
      "execution_count": null,
      "metadata": {
        "id": "iEJLLxqfC4qd"
      },
      "outputs": [],
      "source": []
    }
  ]
}